{
 "cells": [
  {
   "cell_type": "markdown",
   "id": "0e64e683",
   "metadata": {},
   "source": [
    "# 함수"
   ]
  },
  {
   "cell_type": "code",
   "execution_count": 1,
   "id": "89284207",
   "metadata": {},
   "outputs": [],
   "source": [
    "def add(a, b):\n",
    "    result = a + b\n",
    "    return result"
   ]
  },
  {
   "cell_type": "code",
   "execution_count": 2,
   "id": "cf5b4995",
   "metadata": {},
   "outputs": [
    {
     "name": "stdout",
     "output_type": "stream",
     "text": [
      "300\n"
     ]
    }
   ],
   "source": [
    "add_result = add(100, 200)\n",
    "print(add_result)"
   ]
  },
  {
   "cell_type": "code",
   "execution_count": 3,
   "id": "dab42337",
   "metadata": {},
   "outputs": [],
   "source": [
    "def add_and_mul(a, b):\n",
    "    return (a+b, a*b)"
   ]
  },
  {
   "cell_type": "code",
   "execution_count": 4,
   "id": "ae98a104",
   "metadata": {},
   "outputs": [
    {
     "name": "stdout",
     "output_type": "stream",
     "text": [
      "7\n",
      "12\n"
     ]
    }
   ],
   "source": [
    "add_res, mul_res = add_and_mul(3, 4)\n",
    "print(add_res)\n",
    "print(mul_res)"
   ]
  },
  {
   "cell_type": "markdown",
   "id": "2c683a7c",
   "metadata": {},
   "source": [
    "### 실습1"
   ]
  },
  {
   "cell_type": "code",
   "execution_count": 25,
   "id": "1fd0f8ae",
   "metadata": {},
   "outputs": [],
   "source": [
    "def my_len(x):\n",
    "    length = 0\n",
    "    for i in x:\n",
    "        length += 1\n",
    "    return length"
   ]
  },
  {
   "cell_type": "code",
   "execution_count": 26,
   "id": "1c92d4bc",
   "metadata": {},
   "outputs": [
    {
     "name": "stdout",
     "output_type": "stream",
     "text": [
      "6 14\n",
      "6 14\n"
     ]
    }
   ],
   "source": [
    "a = [5, 5, 6, 7, 8, 3]\n",
    "b = 'Life is short.'\n",
    "print(len(a), len(b))\n",
    "print(my_len(a), my_len(b))"
   ]
  },
  {
   "cell_type": "markdown",
   "id": "7bdfd6de",
   "metadata": {},
   "source": [
    "### 실습2"
   ]
  },
  {
   "cell_type": "code",
   "execution_count": 7,
   "id": "917a0920",
   "metadata": {},
   "outputs": [],
   "source": [
    "def mult(a, b):\n",
    "    result = 1\n",
    "    for i in range(a, b+1):\n",
    "        result *= i\n",
    "    return result"
   ]
  },
  {
   "cell_type": "code",
   "execution_count": 21,
   "id": "9868bb2c",
   "metadata": {},
   "outputs": [
    {
     "data": {
      "text/plain": [
       "6"
      ]
     },
     "execution_count": 21,
     "metadata": {},
     "output_type": "execute_result"
    }
   ],
   "source": [
    "mult(1, 3)"
   ]
  },
  {
   "cell_type": "code",
   "execution_count": 22,
   "id": "875903a1",
   "metadata": {},
   "outputs": [
    {
     "data": {
      "text/plain": [
       "120"
      ]
     },
     "execution_count": 22,
     "metadata": {},
     "output_type": "execute_result"
    }
   ],
   "source": [
    "mult(2, 5)"
   ]
  },
  {
   "cell_type": "markdown",
   "id": "27a4d06a",
   "metadata": {},
   "source": [
    "### 실습3"
   ]
  },
  {
   "cell_type": "code",
   "execution_count": 32,
   "id": "e4d4c476",
   "metadata": {},
   "outputs": [],
   "source": [
    "def sum_pos_neg(l):\n",
    "    pos, neg = 0, 0\n",
    "    for i in l:\n",
    "        if i > 0:\n",
    "            pos += i\n",
    "        elif i < 0:\n",
    "            neg += i\n",
    "    return pos, neg"
   ]
  },
  {
   "cell_type": "code",
   "execution_count": 33,
   "id": "0640d4e9",
   "metadata": {},
   "outputs": [
    {
     "name": "stdout",
     "output_type": "stream",
     "text": [
      "7 -9\n"
     ]
    }
   ],
   "source": [
    "possum, negsum = sum_pos_neg([3, 4, -6, -3])\n",
    "print(possum, negsum)"
   ]
  },
  {
   "cell_type": "code",
   "execution_count": 34,
   "id": "6a6d0ec0",
   "metadata": {},
   "outputs": [
    {
     "name": "stdout",
     "output_type": "stream",
     "text": [
      "1 -1\n"
     ]
    }
   ],
   "source": [
    "mylist = [0, 0, 0, 0, 0, 0, 0, 0, 0, 1, -1]\n",
    "possum2, negsum2 = sum_pos_neg(mylist)\n",
    "print(possum2, negsum2)"
   ]
  },
  {
   "cell_type": "markdown",
   "id": "27dcd8d8",
   "metadata": {},
   "source": [
    "---"
   ]
  },
  {
   "cell_type": "code",
   "execution_count": 36,
   "id": "9e2f9204",
   "metadata": {},
   "outputs": [],
   "source": [
    "def count_even(*n):\n",
    "    cnt = 0\n",
    "    for v in n:\n",
    "        if v % 2 == 0:\n",
    "            cnt += 1\n",
    "    return cnt"
   ]
  },
  {
   "cell_type": "code",
   "execution_count": 38,
   "id": "b6a255db",
   "metadata": {},
   "outputs": [
    {
     "data": {
      "text/plain": [
       "2"
      ]
     },
     "execution_count": 38,
     "metadata": {},
     "output_type": "execute_result"
    }
   ],
   "source": [
    "count_even(1, 2, 3, 4, 5)"
   ]
  },
  {
   "cell_type": "markdown",
   "id": "fe76a44d",
   "metadata": {},
   "source": [
    "### 실습4 - 가변 매개변수"
   ]
  },
  {
   "cell_type": "code",
   "execution_count": 59,
   "id": "ff7901e7",
   "metadata": {},
   "outputs": [],
   "source": [
    "def vector_sum(vector, *vectors):\n",
    "    vec = [0, 0]\n",
    "    for i in (0, 1):\n",
    "        vec[i] += vector[i]\n",
    "        for v in vectors:\n",
    "            vec[i] += v[i]\n",
    "    return vec"
   ]
  },
  {
   "cell_type": "code",
   "execution_count": 60,
   "id": "46796722",
   "metadata": {},
   "outputs": [
    {
     "name": "stdout",
     "output_type": "stream",
     "text": [
      "[1.5, 1.5] [7.5, 5.5] [4.13, 2.72]\n"
     ]
    }
   ],
   "source": [
    "v1 = [0, 1]\n",
    "v2 = [0.5, 0.5]\n",
    "v3 = [1, 0]\n",
    "v4 = [6, 4]\n",
    "v5 = [3.13, 2.72]\n",
    "m1 = vector_sum(v1, v2, v3)\n",
    "m2 = vector_sum(v1, v2, v3, v4)\n",
    "m3 = vector_sum(v3, v5)\n",
    "print(m1, m2, m3)"
   ]
  },
  {
   "cell_type": "code",
   "execution_count": 63,
   "id": "d8c4b06a",
   "metadata": {},
   "outputs": [
    {
     "name": "stdout",
     "output_type": "stream",
     "text": [
      "My name is Gildong Hong.\n"
     ]
    }
   ],
   "source": [
    "def print_name(first, second='Kim'):\n",
    "    print('My name is', first, second + '.')\n",
    "\n",
    "print_name('Gildong', 'Hong')"
   ]
  },
  {
   "cell_type": "markdown",
   "id": "a1ea4cec",
   "metadata": {},
   "source": [
    "### 실습5 - 디폴트 매개변수"
   ]
  },
  {
   "cell_type": "code",
   "execution_count": 73,
   "id": "8d373b4a",
   "metadata": {},
   "outputs": [],
   "source": [
    "def merge_list(l1 = [0], l2 = [0]):\n",
    "    l = l1 + l2\n",
    "    return sorted(l)"
   ]
  },
  {
   "cell_type": "code",
   "execution_count": 74,
   "id": "e27b7891",
   "metadata": {},
   "outputs": [
    {
     "name": "stdout",
     "output_type": "stream",
     "text": [
      "[1, 1, 2, 2, 3, 5, 9]\n",
      "[0, 4, 6, 9]\n",
      "[0, 0]\n"
     ]
    }
   ],
   "source": [
    "l = [3, 5, 9, 1, 2]\n",
    "ml1 = merge_list(l, [2, 1])\n",
    "ml2 = merge_list([6, 9, 4])\n",
    "ml3 = merge_list()\n",
    "\n",
    "print(ml1)\n",
    "print(ml2)\n",
    "print(ml3)"
   ]
  },
  {
   "cell_type": "markdown",
   "id": "bf9d418d",
   "metadata": {},
   "source": [
    "## 모듈"
   ]
  },
  {
   "cell_type": "code",
   "execution_count": 78,
   "id": "4a051fcb",
   "metadata": {},
   "outputs": [
    {
     "name": "stdout",
     "output_type": "stream",
     "text": [
      "3\n"
     ]
    }
   ],
   "source": [
    "from random import *\n",
    "print(randint(0, 10))"
   ]
  },
  {
   "cell_type": "code",
   "execution_count": 81,
   "id": "babc5b80",
   "metadata": {},
   "outputs": [
    {
     "data": {
      "text/plain": [
       "3628800"
      ]
     },
     "execution_count": 81,
     "metadata": {},
     "output_type": "execute_result"
    }
   ],
   "source": [
    "from math import factorial, sin, cos\n",
    "ma.factorial(10)"
   ]
  },
  {
   "cell_type": "code",
   "execution_count": 82,
   "id": "333a73ce",
   "metadata": {},
   "outputs": [
    {
     "name": "stdout",
     "output_type": "stream",
     "text": [
      "6\n",
      "9\n",
      "8\n",
      "9\n",
      "1\n",
      "2\n",
      "3\n",
      "9\n",
      "7\n",
      "9\n"
     ]
    }
   ],
   "source": [
    "import random\n",
    "for i in range(10):\n",
    "    print(random.randrange(0, 10))"
   ]
  },
  {
   "cell_type": "code",
   "execution_count": 83,
   "id": "c257f64d",
   "metadata": {},
   "outputs": [
    {
     "name": "stdout",
     "output_type": "stream",
     "text": [
      "[2, 3, 1, 5, 4]\n"
     ]
    }
   ],
   "source": [
    "Ls = [1, 2, 3, 4, 5]\n",
    "random.shuffle(Ls)\n",
    "print(Ls)"
   ]
  },
  {
   "cell_type": "code",
   "execution_count": 84,
   "id": "83d3f3b0",
   "metadata": {},
   "outputs": [
    {
     "name": "stdout",
     "output_type": "stream",
     "text": [
      "5\n",
      "1\n",
      "2\n",
      "3\n",
      "1\n",
      "4\n",
      "3\n",
      "5\n",
      "3\n",
      "1\n"
     ]
    }
   ],
   "source": [
    "for i in range(10):\n",
    "    random.shuffle(Ls)\n",
    "    print(Ls[0])"
   ]
  },
  {
   "cell_type": "markdown",
   "id": "e40cba3b",
   "metadata": {},
   "source": [
    "### 실습6"
   ]
  },
  {
   "cell_type": "code",
   "execution_count": 85,
   "id": "bede241f",
   "metadata": {},
   "outputs": [
    {
     "name": "stdout",
     "output_type": "stream",
     "text": [
      "오늘 점심은 쌀국수입니다.\n"
     ]
    }
   ],
   "source": [
    "menu = [\"된장찌개\", \"부대찌개\", \"김치찌개\", \"삼계탕\", \"파스타\", \"돈까스\", \"쌀국수\"]\n",
    "today = random.choice(menu)\n",
    "print(\"오늘 점심은\", today+\"입니다.\")"
   ]
  },
  {
   "cell_type": "markdown",
   "id": "9524b0dd",
   "metadata": {},
   "source": [
    "### 실습7"
   ]
  },
  {
   "cell_type": "code",
   "execution_count": 105,
   "id": "2954be90",
   "metadata": {},
   "outputs": [
    {
     "name": "stdout",
     "output_type": "stream",
     "text": [
      "** 로또 번호 자동 기입을 시작합니다 **\n",
      "1 번째 자동 기입 ==>  1 4 19 32 43 44\n",
      "2 번째 자동 기입 ==>  8 10 23 24 44 45\n",
      "3 번째 자동 기입 ==>  14 31 34 35 38 39\n",
      "4 번째 자동 기입 ==>  6 8 10 36 38 43\n",
      "5 번째 자동 기입 ==>  15 20 27 32 34 44\n"
     ]
    }
   ],
   "source": [
    "print(\"** 로또 번호 자동 기입을 시작합니다 **\")\n",
    "num = list(range(1, 46))\n",
    "for i in range(1, 6):\n",
    "    lottery = random.sample(num, 6)\n",
    "    lottery = sorted(lottery)\n",
    "    print(i, \"번째 자동 기입 ==> \", *lottery)"
   ]
  },
  {
   "cell_type": "markdown",
   "id": "afe5ee92",
   "metadata": {},
   "source": [
    "### 실습8"
   ]
  },
  {
   "cell_type": "code",
   "execution_count": 110,
   "id": "eea6c19a",
   "metadata": {},
   "outputs": [],
   "source": [
    "def get_min_max(l):\n",
    "    min_val, max_val = min(l), max(l)\n",
    "    l.remove(min_val)\n",
    "    l.remove(max_val)\n",
    "    return min_val, max_val"
   ]
  },
  {
   "cell_type": "code",
   "execution_count": 111,
   "id": "0fd6ad27",
   "metadata": {},
   "outputs": [
    {
     "name": "stdout",
     "output_type": "stream",
     "text": [
      "1\n",
      "9\n",
      "[3, 5, 2]\n"
     ]
    }
   ],
   "source": [
    "l = [3, 5, 9, 1, 2]\n",
    "min_val, max_val = get_min_max(l)\n",
    "\n",
    "print(min_val)\n",
    "print(max_val)\n",
    "print(l)"
   ]
  },
  {
   "cell_type": "markdown",
   "id": "cfb85cd6",
   "metadata": {},
   "source": [
    "### 실습9"
   ]
  },
  {
   "cell_type": "code",
   "execution_count": 12,
   "id": "9a0593e6",
   "metadata": {},
   "outputs": [],
   "source": [
    "def comb_dict(d1, d2):\n",
    "    d3 = d1\n",
    "    for i in d1.keys():\n",
    "        if i in d2:\n",
    "            d3[i] += d2[i]\n",
    "    return d3"
   ]
  },
  {
   "cell_type": "code",
   "execution_count": 13,
   "id": "599185cb",
   "metadata": {},
   "outputs": [
    {
     "name": "stdout",
     "output_type": "stream",
     "text": [
      "{'a': 3, 'b': 3, 'd': 7, 'e': 9}\n"
     ]
    }
   ],
   "source": [
    "d1 = {'a': 1, 'b': 3, 'd': 7, 'e': 8}\n",
    "d2 = {'a': 2, 'c': 4, 'e': 1}\n",
    "d3 = comb_dict(d1, d2)\n",
    "print(d3)"
   ]
  },
  {
   "cell_type": "code",
   "execution_count": 11,
   "id": "e9ae890e",
   "metadata": {},
   "outputs": [
    {
     "name": "stdout",
     "output_type": "stream",
     "text": [
      "{'a': 2, 'b': 3, 'd': 7, 'e': 1, 'c': 4}\n",
      "dict_keys(['a', 'b', 'd', 'e', 'c'])\n"
     ]
    }
   ],
   "source": [
    "d3 = d1\n",
    "print(d3)\n",
    "print(d1.keys())"
   ]
  },
  {
   "cell_type": "code",
   "execution_count": null,
   "id": "f6532772",
   "metadata": {},
   "outputs": [],
   "source": []
  }
 ],
 "metadata": {
  "kernelspec": {
   "display_name": "Python 3 (ipykernel)",
   "language": "python",
   "name": "python3"
  },
  "language_info": {
   "codemirror_mode": {
    "name": "ipython",
    "version": 3
   },
   "file_extension": ".py",
   "mimetype": "text/x-python",
   "name": "python",
   "nbconvert_exporter": "python",
   "pygments_lexer": "ipython3",
   "version": "3.10.9"
  }
 },
 "nbformat": 4,
 "nbformat_minor": 5
}
