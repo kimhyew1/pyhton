{
  "nbformat": 4,
  "nbformat_minor": 0,
  "metadata": {
    "colab": {
      "provenance": [],
      "mount_file_id": "14ix4idNXzPDCNw7C_o3F7HcMSQIDSnwq",
      "authorship_tag": "ABX9TyN7tl9JyeoBjnrA7yOoOrwO",
      "include_colab_link": true
    },
    "kernelspec": {
      "name": "python3",
      "display_name": "Python 3"
    },
    "language_info": {
      "name": "python"
    }
  },
  "cells": [
    {
      "cell_type": "markdown",
      "metadata": {
        "id": "view-in-github",
        "colab_type": "text"
      },
      "source": [
        "<a href=\"https://colab.research.google.com/github/kimhyew1/pyhton/blob/main/Statistics_with_Python/Chap11.ipynb\" target=\"_parent\"><img src=\"https://colab.research.google.com/assets/colab-badge.svg\" alt=\"Open In Colab\"/></a>"
      ]
    },
    {
      "cell_type": "code",
      "execution_count": null,
      "metadata": {
        "colab": {
          "base_uri": "https://localhost:8080/"
        },
        "id": "0aUfZFJrmRnD",
        "outputId": "06b2d723-d46c-4a2d-df80-788a8fb6230d"
      },
      "outputs": [
        {
          "output_type": "execute_result",
          "data": {
            "text/plain": [
              "count    12.000000\n",
              "mean      2.058333\n",
              "std       8.233132\n",
              "min     -21.700000\n",
              "25%       1.250000\n",
              "50%       2.800000\n",
              "75%       5.275000\n",
              "max      10.300000\n",
              "Name: Diff, dtype: float64"
            ]
          },
          "metadata": {},
          "execution_count": 1
        }
      ],
      "source": [
        "import pandas as pd\n",
        "Supplement = pd.read_csv('/content/drive/MyDrive/Statistics with Python/Sample Data/Supplement.csv')\n",
        "Supplement['Diff'].describe()"
      ]
    },
    {
      "cell_type": "code",
      "source": [
        "from scipy.stats import shapiro\n",
        "shapiro(Supplement['Diff'])"
      ],
      "metadata": {
        "colab": {
          "base_uri": "https://localhost:8080/"
        },
        "id": "8uUIGvuEvqHr",
        "outputId": "e178d02b-7bf3-4215-dd69-f713aaaa6523"
      },
      "execution_count": null,
      "outputs": [
        {
          "output_type": "execute_result",
          "data": {
            "text/plain": [
              "ShapiroResult(statistic=0.7057660818099976, pvalue=0.0009581108461134136)"
            ]
          },
          "metadata": {},
          "execution_count": 2
        }
      ]
    },
    {
      "cell_type": "code",
      "source": [
        "import matplotlib.pyplot as plt\n",
        "import seaborn as sns\n",
        "sns.boxplot(Supplement['Diff'])"
      ],
      "metadata": {
        "colab": {
          "base_uri": "https://localhost:8080/",
          "height": 354
        },
        "id": "D4DsELsJvxM7",
        "outputId": "1a74d2b0-e621-477d-f382-4bde66f3b52f"
      },
      "execution_count": null,
      "outputs": [
        {
          "output_type": "stream",
          "name": "stderr",
          "text": [
            "/usr/local/lib/python3.7/dist-packages/seaborn/_decorators.py:43: FutureWarning: Pass the following variable as a keyword arg: x. From version 0.12, the only valid positional argument will be `data`, and passing other arguments without an explicit keyword will result in an error or misinterpretation.\n",
            "  FutureWarning\n"
          ]
        },
        {
          "output_type": "execute_result",
          "data": {
            "text/plain": [
              "<matplotlib.axes._subplots.AxesSubplot at 0x7f21f60abc10>"
            ]
          },
          "metadata": {},
          "execution_count": 6
        },
        {
          "output_type": "display_data",
          "data": {
            "text/plain": [
              "<Figure size 432x288 with 1 Axes>"
            ],
            "image/png": "[encoded data removed]"
          },
          "metadata": {
            "needs_background": "light"
          }
        }
      ]
    },
    {
      "cell_type": "code",
      "source": [
        "sns.distplot(Supplement['Diff'], bins=10)"
      ],
      "metadata": {
        "colab": {
          "base_uri": "https://localhost:8080/",
          "height": 354
        },
        "id": "tRgIi6Phv-nS",
        "outputId": "fa77699c-2d0a-42ec-d690-5735547e1cba"
      },
      "execution_count": null,
      "outputs": [
        {
          "output_type": "stream",
          "name": "stderr",
          "text": [
            "/usr/local/lib/python3.7/dist-packages/seaborn/distributions.py:2619: FutureWarning: `distplot` is a deprecated function and will be removed in a future version. Please adapt your code to use either `displot` (a figure-level function with similar flexibility) or `histplot` (an axes-level function for histograms).\n",
            "  warnings.warn(msg, FutureWarning)\n"
          ]
        },
        {
          "output_type": "execute_result",
          "data": {
            "text/plain": [
              "<matplotlib.axes._subplots.AxesSubplot at 0x7f21f600d690>"
            ]
          },
          "metadata": {},
          "execution_count": 7
        },
        {
          "output_type": "display_data",
          "data": {
            "text/plain": [
              "<Figure size 432x288 with 1 Axes>"
            ],
            "image/png": "[encoded data removed]"
          },
          "metadata": {
            "needs_background": "light"
          }
        }
      ]
    },
    {
      "cell_type": "code",
      "source": [
        "from scipy.stats import probplot\n",
        "probplot(Supplement['Diff'], plot=plt)"
      ],
      "metadata": {
        "colab": {
          "base_uri": "https://localhost:8080/",
          "height": 405
        },
        "id": "hFDh9qDTwJWS",
        "outputId": "fa76afc2-2ab0-4951-99f1-d21b66de21b3"
      },
      "execution_count": null,
      "outputs": [
        {
          "output_type": "execute_result",
          "data": {
            "text/plain": [
              "((array([-1.58815464, -1.09814975, -0.78255927, -0.53069113, -0.30892353,\n",
              "         -0.101534  ,  0.101534  ,  0.30892353,  0.53069113,  0.78255927,\n",
              "          1.09814975,  1.58815464]),\n",
              "  array([-21.7,   0.7,   0.8,   1.4,   1.8,   2.5,   3.1,   3.3,   4.1,\n",
              "           8.8,   9.6,  10.3])),\n",
              " (7.277173897686731, 2.0583333333333336, 0.8195065414753482))"
            ]
          },
          "metadata": {},
          "execution_count": 8
        },
        {
          "output_type": "display_data",
          "data": {
            "text/plain": [
              "<Figure size 432x288 with 1 Axes>"
            ],
            "image/png": "[encoded data removed]"
          },
          "metadata": {
            "needs_background": "light"
          }
        }
      ]
    },
    {
      "cell_type": "code",
      "source": [
        "import statsmodels.stats.descriptivestats as smsd\n",
        "stat, pval = smsd.sign_test(Supplement['Diff'])\n",
        "pval/2"
      ],
      "metadata": {
        "colab": {
          "base_uri": "https://localhost:8080/"
        },
        "id": "4UEv2IrgwUrx",
        "outputId": "a70444fd-6003-4be4-fb6d-da51bb3ca788"
      },
      "execution_count": null,
      "outputs": [
        {
          "output_type": "execute_result",
          "data": {
            "text/plain": [
              "0.003173828125"
            ]
          },
          "metadata": {},
          "execution_count": 9
        }
      ]
    },
    {
      "cell_type": "code",
      "source": [
        "from scipy.stats import ttest_1samp\n",
        "stat, pval = ttest_1samp(Supplement['Diff'], popmean=0)\n",
        "pval/2"
      ],
      "metadata": {
        "colab": {
          "base_uri": "https://localhost:8080/"
        },
        "id": "UB_aCC5u05PC",
        "outputId": "0db10a3a-f22b-4d56-968c-ac9bc6321229"
      },
      "execution_count": null,
      "outputs": [
        {
          "output_type": "execute_result",
          "data": {
            "text/plain": [
              "0.20247921447302547"
            ]
          },
          "metadata": {},
          "execution_count": 10
        }
      ]
    },
    {
      "cell_type": "code",
      "source": [
        "from scipy.stats import wilcoxon\n",
        "wilcoxon(Supplement['Diff'], alternative='greater')"
      ],
      "metadata": {
        "colab": {
          "base_uri": "https://localhost:8080/"
        },
        "id": "t2JHlGFf1EvJ",
        "outputId": "9566d5d4-eea4-4d1c-f649-af43412d999a"
      },
      "execution_count": null,
      "outputs": [
        {
          "output_type": "execute_result",
          "data": {
            "text/plain": [
              "WilcoxonResult(statistic=66.0, pvalue=0.01708984375)"
            ]
          },
          "metadata": {},
          "execution_count": 12
        }
      ]
    },
    {
      "cell_type": "code",
      "source": [
        "Mice = pd.read_csv('/content/drive/MyDrive/Statistics with Python/Sample Data/Mice.csv')\n",
        "Mice_A = Mice[Mice.Drug=='A']\n",
        "Mice_B = Mice[Mice.Drug=='B']"
      ],
      "metadata": {
        "id": "y77uJyqw1OBx"
      },
      "execution_count": null,
      "outputs": []
    },
    {
      "cell_type": "code",
      "source": [
        "from scipy.stats import ranksums\n",
        "ranksums(Mice_A.Days, Mice_B.Days)"
      ],
      "metadata": {
        "colab": {
          "base_uri": "https://localhost:8080/"
        },
        "id": "VeUXUOVe-VbZ",
        "outputId": "b8c2fd24-3524-4fd6-dbe1-1ecae8a74849"
      },
      "execution_count": null,
      "outputs": [
        {
          "output_type": "execute_result",
          "data": {
            "text/plain": [
              "RanksumsResult(statistic=-2.1908902300206643, pvalue=0.028459736916310565)"
            ]
          },
          "metadata": {},
          "execution_count": 15
        }
      ]
    },
    {
      "cell_type": "code",
      "source": [
        "from statsmodels.stats.weightstats import ttest_ind\n",
        "stat, pval, df = ttest_ind(Mice_A.Days, Mice_B.Days, alternative='two-sided', usevar='pooled')\n",
        "pval"
      ],
      "metadata": {
        "colab": {
          "base_uri": "https://localhost:8080/"
        },
        "id": "Xi92Ayi0-gxX",
        "outputId": "ee8fdffe-2b52-4066-dad6-fcc6c7a8ae71"
      },
      "execution_count": null,
      "outputs": [
        {
          "output_type": "execute_result",
          "data": {
            "text/plain": [
              "0.1057074769720004"
            ]
          },
          "metadata": {},
          "execution_count": 17
        }
      ]
    },
    {
      "cell_type": "code",
      "source": [
        "wilcoxon(Supplement['Pre'], Supplement['Post'], alternative='less')"
      ],
      "metadata": {
        "colab": {
          "base_uri": "https://localhost:8080/"
        },
        "id": "37QBe1MW-vW3",
        "outputId": "f8c72244-f873-4809-db7f-bd54771c612d"
      },
      "execution_count": null,
      "outputs": [
        {
          "output_type": "execute_result",
          "data": {
            "text/plain": [
              "WilcoxonResult(statistic=12.0, pvalue=0.01708984375)"
            ]
          },
          "metadata": {},
          "execution_count": 18
        }
      ]
    },
    {
      "cell_type": "code",
      "source": [
        "Perfume = pd.read_csv('/content/drive/MyDrive/Statistics with Python/Sample Data/Perfume.csv')\n",
        "Perfume_A = Perfume[Perfume.Company=='A']\n",
        "Perfume_B = Perfume[Perfume.Company=='B']\n",
        "\n",
        "from scipy.stats import ansari\n",
        "ansari(Perfume_A.Weight, Perfume_B.Weight)"
      ],
      "metadata": {
        "colab": {
          "base_uri": "https://localhost:8080/"
        },
        "id": "lxYT7AWe-3uG",
        "outputId": "75d2f4ea-2331-40e1-a402-42549a109c6e"
      },
      "execution_count": null,
      "outputs": [
        {
          "output_type": "execute_result",
          "data": {
            "text/plain": [
              "AnsariResult(statistic=35.0, pvalue=0.9173271173271174)"
            ]
          },
          "metadata": {},
          "execution_count": 20
        }
      ]
    },
    {
      "cell_type": "code",
      "source": [],
      "metadata": {
        "id": "wt73JFnjCo33"
      },
      "execution_count": null,
      "outputs": []
    }
  ]
}