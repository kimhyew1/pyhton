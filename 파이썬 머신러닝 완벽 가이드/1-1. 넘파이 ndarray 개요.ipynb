{
 "cells": [
  {
   "cell_type": "code",
   "execution_count": null,
   "id": "af9d9061",
   "metadata": {},
   "outputs": [],
   "source": [
    "import numpy as np \n",
    "\n",
    "# import numpy만으로 충분하지만, as np를 추가해 약어로 모듈 표현"
   ]
  },
  {
   "cell_type": "code",
   "execution_count": null,
   "id": "b238ae9f",
   "metadata": {},
   "outputs": [],
   "source": [
    "array1 = np.array([1,2,3])\n",
    "print('array1 type:', type(array1))\n",
    "print('array1 array 형태: ', array1.shape)  #---1차원 array로 3개의 data를 가짐--;;\n",
    "\n",
    "array2 = np.array([[1,2,3],\n",
    "                 [2,3,4]])\n",
    "print('array2 type:', type(array2))\n",
    "print('array 2 array 형태: ', array2.shape)  #---2차원 array로 2개 row & 3개 column, 2*3=6개의 data를 가짐--;;\n",
    "\n",
    "array3 = np.array([[1,2,3]])\n",
    "print('array3 type:', type(array3))\n",
    "print('array3 array 형태: ', array3.shape)  #---2차원 array로 1개 row & 3개 column을 가짐--;;\n",
    "\n",
    "# ndarray := Numpy의 핵심인 다차원 행렬 자료구조 클래스 (In 파이썬, List 자료형과 동일한 출력 형태)\n",
    "# ndarray.shape := ndarray's dimension & size 를 tuple type으로 나타냄\n",
    "\n",
    "print('array1: {:0}차원, array2: {:1}차원, array3: {:2}차원'. format(array1.ndim, array2.ndim, array3.ndim))\n",
    "\n",
    "# array.ndim := 배열의 차원 수 or 배열의 축 수"
   ]
  },
 "metadata": {
  "kernelspec": {
   "display_name": "Python 3",
   "language": "python",
   "name": "python3"
  },
  "language_info": {
   "codemirror_mode": {
    "name": "ipython",
    "version": 3
   },
   "file_extension": ".py",
   "mimetype": "text/x-python",
   "name": "python",
   "nbconvert_exporter": "python",
   "pygments_lexer": "ipython3",
   "version": "3.8.8"
  }
 },
 "nbformat": 4,
 "nbformat_minor": 5
}
