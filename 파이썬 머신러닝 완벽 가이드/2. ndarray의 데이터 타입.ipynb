{
 "cells": [
  {
   "cell_type": "code",
   "execution_count": 1,
   "id": "ae9303cb",
   "metadata": {},
   "outputs": [],
   "source": [
    "import numpy as np"
   ]
  },
  {
   "cell_type": "code",
   "execution_count": 2,
   "id": "1c1679bc",
   "metadata": {},
   "outputs": [
    {
     "name": "stdout",
     "output_type": "stream",
     "text": [
      "<class 'list'>\n",
      "<class 'numpy.ndarray'>\n",
      "[1 2 3] int32\n"
     ]
    }
   ],
   "source": [
    "# ndarray 내 data -> int형, unsigned int형(0~2^16까지 정수), float형, complex type 제공\n",
    "# ndarray 내 data type -> dtype 속성으로 확인 가능\n",
    "# list -> 서로 다른 data type 가질 수 있음\n",
    "\n",
    "list1 = [1,2,3]\n",
    "print(type(list1))\n",
    "array1 = np.array(list1)\n",
    "print(type(array1))\n",
    "print(array1, array1.dtype)"
   ]
  },
  {
   "cell_type": "code",
   "execution_count": 4,
   "id": "dfc837be",
   "metadata": {},
   "outputs": [
    {
     "name": "stdout",
     "output_type": "stream",
     "text": [
      "['1' '2' 'test'] <U11\n",
      "[1. 2. 3.] float64\n"
     ]
    }
   ],
   "source": [
    "# cuz of 연산의 특성, same data type만 가능)\n",
    "# list1 = integer 숫자인 1,2,3 값으로 가짐\n",
    "# dif. type of data -> size 가 더 큰 data type으로 형 변환 일괄 적용\n",
    "\n",
    "list2 = [1,2,'test']    #---int형 & string형--;;\n",
    "array2 = np.array(list2)\n",
    "print(array2, array2.dtype)\n",
    "# int형 -> string형\n",
    "\n",
    "list3 = [1,2,3.0]    #---int형 & float형--;;\n",
    "array3 = np.array(list3)\n",
    "print(array3, array3.dtype)\n",
    "# int형 -> float64형"
   ]
  },
  {
   "cell_type": "code",
   "execution_count": 5,
   "id": "d793bea6",
   "metadata": {},
   "outputs": [
    {
     "name": "stdout",
     "output_type": "stream",
     "text": [
      "[1. 2. 3.] float64\n",
      "[1 2 3] int32\n",
      "[1 2 3] int32\n"
     ]
    }
   ],
   "source": [
    "# astype() := ndarray 내 data값's type 변경 가능\n",
    "# data type 변경시, 대용향 data의 ndarray를 만들 때 많은 memory 사용 -> memory를 절약해야할 때 사용\n",
    "\n",
    "array_int = np.array([1,2,3])\n",
    "array_float = array_int.astype('float64')\n",
    "print(array_float, array_float.dtype)\n",
    "\n",
    "array_int1 = array_float.astype('int32')\n",
    "print(array_int1, array_int1.dtype)\n",
    "\n",
    "array_float1 = np.array([1.1, 2.1, 3.1])\n",
    "array_int2 = array_float1.astype('int32')\n",
    "print(array_int2, array_int2.dtype)"
   ]
  }
 ],
 "metadata": {
  "kernelspec": {
   "display_name": "Python 3",
   "language": "python",
   "name": "python3"
  },
  "language_info": {
   "codemirror_mode": {
    "name": "ipython",
    "version": 3
   },
   "file_extension": ".py",
   "mimetype": "text/x-python",
   "name": "python",
   "nbconvert_exporter": "python",
   "pygments_lexer": "ipython3",
   "version": "3.8.8"
  }
 },
 "nbformat": 4,
 "nbformat_minor": 5
}
