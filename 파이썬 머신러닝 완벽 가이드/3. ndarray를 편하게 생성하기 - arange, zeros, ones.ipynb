{
 "cells": [
  {
   "cell_type": "code",
   "execution_count": 1,
   "id": "2abec88f",
   "metadata": {},
   "outputs": [],
   "source": [
    "import numpy as np"
   ]
  },
  {
   "cell_type": "code",
   "execution_count": 3,
   "id": "efd90bcf",
   "metadata": {},
   "outputs": [
    {
     "name": "stdout",
     "output_type": "stream",
     "text": [
      "[0 1 2 3 4 5 6 7 8 9]\n",
      "int32 (10,)\n"
     ]
    }
   ],
   "source": [
    "# 특정 크기와 차원을 가진 ndarray를 [연속값/0/1]로 초기화해 사용할 경우, arrange(), zeros(), ones() 사용\n",
    "# (make data for testing or 대규모 data 일괄적으로 reset)\n",
    "\n",
    "# arange()\n",
    "sequence_array = np.arange(10)\n",
    "print(sequence_array)\n",
    "print(sequence_array.dtype, sequence_array.shape)\n",
    "\n",
    "# default 함수 인자 = stop값\n",
    "# 0 ~ stop값(= 10+(-1) = 9) 의 연속 숫자 값\n",
    "# start값도 부여해 0이 아닌 값부터 시작한 연속 값을 부여할 수 있음"
   ]
  },
  {
   "cell_type": "code",
   "execution_count": 5,
   "id": "da5bbc9f",
   "metadata": {},
   "outputs": [
    {
     "name": "stdout",
     "output_type": "stream",
     "text": [
      "[[0 0]\n",
      " [0 0]\n",
      " [0 0]]\n",
      "int32 (3, 2)\n"
     ]
    }
   ],
   "source": [
    "# zero()\n",
    "# tuple 형태의 shape값 입력 -> 모든 값을 0으로 채운 shape를 가진 ndarray 반환\n",
    "\n",
    "zero_array = np.zeros((3,2), dtype='int32')\n",
    "print(zero_array)\n",
    "print(zero_array.dtype, zero_array.shape)"
   ]
  },
  {
   "cell_type": "code",
   "execution_count": 6,
   "id": "efa7daaa",
   "metadata": {},
   "outputs": [
    {
     "name": "stdout",
     "output_type": "stream",
     "text": [
      "[[0. 0.]\n",
      " [0. 0.]\n",
      " [0. 0.]]\n",
      "float64 (3, 2)\n"
     ]
    }
   ],
   "source": [
    "# ones()\n",
    "# tuple 형태의 shape값 입력 -> 모든 값을 1로 채운 shape를 가진 ndarray 반환\n",
    "# dtype 정하지 x -> default로 float64 형의 data로 ndarray 채움\n",
    "\n",
    "one_array = np.zeros((3,2))\n",
    "print(one_array)\n",
    "print(one_array.dtype, one_array.shape)"
   ]
  }
 ],
 "metadata": {
  "kernelspec": {
   "display_name": "Python 3",
   "language": "python",
   "name": "python3"
  },
  "language_info": {
   "codemirror_mode": {
    "name": "ipython",
    "version": 3
   },
   "file_extension": ".py",
   "mimetype": "text/x-python",
   "name": "python",
   "nbconvert_exporter": "python",
   "pygments_lexer": "ipython3",
   "version": "3.8.8"
  }
 },
 "nbformat": 4,
 "nbformat_minor": 5
}
